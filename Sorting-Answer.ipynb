{
 "cells": [
  {
   "cell_type": "markdown",
   "id": "b2cb634a-9674-4010-b694-421cd4bddb4a",
   "metadata": {},
   "source": [
    "# Sorting-Answer "
   ]
  },
  {
   "cell_type": "markdown",
   "id": "1c8bff9e-027a-4245-9870-7d81e22f6592",
   "metadata": {},
   "source": [
    "#### By Dae Hyeun (Isaac) Cheong "
   ]
  },
  {
   "cell_type": "markdown",
   "id": "569c3dfa-ce42-41b2-9387-c6119e269acd",
   "metadata": {},
   "source": [
    "This document has a code to sort a free response question into 5 categories: \n",
    "* **C**: Correct answer, but still need to be checked by human.\n",
    "* **I**: Incorrect answer, but still need to be checked by human. \n",
    "* **H**: Answers that can't be classified using this algorithm so human needs to correct. "
   ]
  },
  {
   "cell_type": "code",
   "execution_count": 85,
   "id": "5ecf6dac-f483-4e5f-a916-583e6ab934f8",
   "metadata": {},
   "outputs": [],
   "source": [
    "library(knitr)\n",
    "library(dplyr)\n",
    "library(readxl)\n",
    "library(stringr)\n",
    "raw_data <- read_excel(\"Items 28 and 30-2.xls\")\n",
    "translated_pc <- read_excel(\"translated_pc.xlsx\")"
   ]
  },
  {
   "cell_type": "markdown",
   "id": "9b6845ae-9689-4e44-bc26-54745deb7bf4",
   "metadata": {},
   "source": [
    "#### Methodology"
   ]
  },
  {
   "cell_type": "markdown",
   "id": "60370cc3-daac-429d-b3ae-0d4e21c8d4f3",
   "metadata": {},
   "source": [
    "To explain the methodology on how to sort an answer, I will use the question about water bubbles, which coresspond to question 4 of the science assessment. To the original dataset, the answer to the question 4 correspond to the column name \"pc\""
   ]
  },
  {
   "cell_type": "markdown",
   "id": "30f034b4-577e-49c3-8907-e43b3c95d4e9",
   "metadata": {},
   "source": [
    "<img src=\"scoringrubric.png\" alt=\"rubric\" width=\"700\"/>"
   ]
  },
  {
   "cell_type": "markdown",
   "id": "fcecdd89-1990-4901-9b0a-c8b1b488d84c",
   "metadata": {},
   "source": [
    "Here, I will explain the psedocode of the following method.\n",
    "\n",
    "1. We will first start with identifying MC (Most likely to be a correct answer). We consider the answer as most likely to be a correct answer when the answer contain at least two key words either from Code 10 and Code 11. We will make the two groups of key words (What and How), so the answer get classified into MC when answer has at least one word from each group.\n",
    "    * For example, code 10's What group will be {Bubbles, Gas , They , etc...} and How group will be {light, less dense, not heavy, etc...}. If the student wrote \"Bubbles float because air inside the bubble is lighter than water\", the algorithm will classify the answer to MC group. \n",
    "\n",
    "2. We repeat the Step 1 for every Code of correct answer to finish the sorting to MC category.  \n",
    "\n",
    "3. Now, out of all non-MC answer, we will identify CC (Likely to be a correct answer). If we look at the answer key, we can identify some important key words that the word alone makes the answer correct. When the answer contain at least one of this key words, then we identify the answer to category CC. \n",
    "    * For example, some key words for the bubble problem will be {less dense, not heavy, oxygen, carbon dioxide, light}. If the student wrote \"The thing inside is less dense than water\", this will not be classified into MC but CC.  \n",
    "    \n",
    "4. Then we repeat the STEP 3 to identify LI (Likely to be a incorrect answer). \n",
    "\n",
    "5. Any blank answer or the answer that contains {don't know, no idea}, go to category I. Rest of them go to NC (Not classified)\n"
   ]
  },
  {
   "cell_type": "code",
   "execution_count": 87,
   "id": "eeb6f530-6f93-473c-bff9-b76056499a19",
   "metadata": {},
   "outputs": [],
   "source": [
    "our_interest <- select(raw_data, CODECEN, CUADERNILLO, FORMA, PC)\n",
    "final_df <- cbind(our_interest, translated_pc)\n",
    "colnames(final_df) <- c(\"Code\", \"Student_ID\", \"Form\", \"Original_Response\",\"Response\")"
   ]
  },
  {
   "cell_type": "code",
   "execution_count": 14,
   "id": "7e39a929-fb80-430a-8acb-fdee3ef70443",
   "metadata": {},
   "outputs": [],
   "source": [
    "## This function detect the answer that is most likely to be correct. \n",
    "## Take input as dataframe (translated text has to be a 5th column)\n",
    "## Returns a another dataframe with only MC answer with another column labeled with \"C\" (Correct)\n",
    "## What_words and How_words must be in Regex expression \n",
    "\n",
    "What_Words = \"( AIR |BUBBLES|BUBBLE|THEY|OXYGEN| GAS | CARBON |CARBON DIOXIDE)\"\n",
    "How_Words = \"( LIGHT |LESS DENSE|NOT HEAVY|LIGHTER|FLOAT|BLOWING| BLOW | BLOWS )\"\n",
    "\n",
    "detecting_MC <- function(x) {\n",
    "    vector_of_answer <- x[ ,5]\n",
    "    all_MC_answer <- str_detect(final_df[ ,5], What_Words) * str_detect(final_df[ ,5], How_Words)\n",
    "    return(all_MC_answer) \n",
    "}\n"
   ]
  },
  {
   "cell_type": "code",
   "execution_count": 86,
   "id": "45242f17-18cb-475a-a64c-a71eb2637816",
   "metadata": {},
   "outputs": [],
   "source": [
    "## This function detects the row with completely wrong answer \n",
    "## Wrong answer = \"Don't Know\" + \"NA\" \n",
    "## Returns the dataframe with Wrong answer: This will be the \"I\" (incorrect) group\n",
    "\n",
    "detecting_I <- function(df) {\n",
    "    incorrect <- df %>% filter(is.na(Response) | str_detect(df[ ,'Response'], \"DONT KNOW\"))\n",
    "    return(incorrect)\n",
    "}"
   ]
  },
  {
   "cell_type": "code",
   "execution_count": 89,
   "id": "632cfff9-7540-4ff3-9a93-dd53bb592560",
   "metadata": {},
   "outputs": [],
   "source": [
    "## This function takes a two dataframe\n",
    "## Return a dataframe that overlapped rows are removed from the bigger dataframe\n",
    "\n",
    "remove_overlap <- function(bigger_df, smaller_df) {\n",
    "    `%nin%` = Negate(`%in%`)\n",
    "    return(bigger_df %>% filter(Student_ID %nin% smaller_df$Student_ID))\n",
    "    }"
   ]
  },
  {
   "cell_type": "code",
   "execution_count": 91,
   "id": "5c6da8c9-37cd-4c36-be8e-bae24001ac36",
   "metadata": {},
   "outputs": [],
   "source": [
    "## This function takes a key words and dataframe, \n",
    "## Returns the dataframe with keywords\n",
    "## It narrows down the entire dataset to smaller subsets. \n",
    "\n",
    "narrower_w_keywords <- function(df, keywords) {\n",
    "    vector_of_answer <- df[ ,'Response'] \n",
    "    rows_w_keywords <- str_detect(vector_of_answer, keywords)\n",
    "    return(df[rows_w_keywords, ])\n",
    "    }\n",
    "\n",
    "narrower_wo_keywords <- function(df, keywords) {\n",
    "    vector_of_answer <- df[ ,'Response'] \n",
    "    rows_wo_keywords <- str_detect(vector_of_answer, keywords, negate = TRUE)\n",
    "    return(df[rows_wo_keywords, ])\n",
    "    }\n"
   ]
  },
  {
   "cell_type": "code",
   "execution_count": 21,
   "id": "426218a2-96f5-4679-a4f2-dc9ddfdc8bd3",
   "metadata": {},
   "outputs": [],
   "source": [
    "## This function add another column \"Correction\" (either \"Correct\" or \"Incorrect\")\n",
    "\n",
    "add_correction <- function(df, result = \"Correct\") {\n",
    "    return(df$Correc\n",
    "    }\n"
   ]
  }
 ],
 "metadata": {
  "kernelspec": {
   "display_name": "R",
   "language": "R",
   "name": "ir"
  },
  "language_info": {
   "codemirror_mode": "r",
   "file_extension": ".r",
   "mimetype": "text/x-r-source",
   "name": "R",
   "pygments_lexer": "r",
   "version": "3.6.1"
  }
 },
 "nbformat": 4,
 "nbformat_minor": 5
}
