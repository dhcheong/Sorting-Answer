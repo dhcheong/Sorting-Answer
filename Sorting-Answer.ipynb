{
 "cells": [
  {
   "cell_type": "markdown",
   "id": "b2cb634a-9674-4010-b694-421cd4bddb4a",
   "metadata": {},
   "source": [
    "# Sorting-Answer "
   ]
  },
  {
   "cell_type": "markdown",
   "id": "1c8bff9e-027a-4245-9870-7d81e22f6592",
   "metadata": {},
   "source": [
    "#### By Dae Hyeun (Isaac) Cheong "
   ]
  },
  {
   "cell_type": "markdown",
   "id": "569c3dfa-ce42-41b2-9387-c6119e269acd",
   "metadata": {},
   "source": [
    "This document has a code for the algorithm that sort a FRQ response into 3 categories: \n",
    "* **C**: Correct answer, but still need to be checked by human.\n",
    "* **I**: Incorrect answer, but still need to be checked by human. \n",
    "* **H**: Answers that can't be classified using this algorithm so human needs to correct. "
   ]
  },
  {
   "cell_type": "code",
   "execution_count": 23,
   "id": "5ecf6dac-f483-4e5f-a916-583e6ab934f8",
   "metadata": {},
   "outputs": [
    {
     "name": "stderr",
     "output_type": "stream",
     "text": [
      "Warning message:\n",
      "\"package 'writexl' was built under R version 3.6.3\""
     ]
    }
   ],
   "source": [
    "library(writexl)\n",
    "library(knitr)\n",
    "library(dplyr)\n",
    "library(readxl)\n",
    "library(stringr)\n",
    "raw_data <- read_excel(\"Items 28 and 30-2.xls\")\n",
    "translated_pc <- read_excel(\"translated_pc.xlsx\")"
   ]
  },
  {
   "cell_type": "markdown",
   "id": "2a60682f-75eb-425f-a3e9-cd3909cc8e79",
   "metadata": {},
   "source": [
    "### Summary \n",
    "\n",
    "This sorting algorithm sorts the response into three categories (C, I, H) by using the patterns or keywords of wrong/correct answer. The result shows that the algorithm was quite successful with estimated accuracy of around 80%. Human checks at the end is strongly recommended to get 100% accuracy."
   ]
  },
  {
   "cell_type": "markdown",
   "id": "9b6845ae-9689-4e44-bc26-54745deb7bf4",
   "metadata": {},
   "source": [
    "#### Methodology: Demonstration with Bubble Rising Problem"
   ]
  },
  {
   "cell_type": "markdown",
   "id": "60370cc3-daac-429d-b3ae-0d4e21c8d4f3",
   "metadata": {},
   "source": [
    "To explain the methodology of how this algorithm works, I will use the water bubble questions which coresspond to question 14 of the SAT science assessment. For the original dataset that we records the student's response, the student responses for this question are recoreded in column \"pc\"."
   ]
  },
  {
   "cell_type": "markdown",
   "id": "30f034b4-577e-49c3-8907-e43b3c95d4e9",
   "metadata": {},
   "source": [
    "<img src=\"scoringrubric.png\" alt=\"rubric\" width=\"700\"/>"
   ]
  },
  {
   "cell_type": "markdown",
   "id": "fcecdd89-1990-4901-9b0a-c8b1b488d84c",
   "metadata": {},
   "source": [
    "Before we start the sorting, we should define some functions so that we can make our process much smoother. \n",
    "Here are quick summary of what each function does.\n",
    "\n",
    "1. **dectecting_I**: This function detects the row with completely wrong response. Response that contains the phrase \"Don't Know\" or \"NA\" will be considered to be a completely wrong answer. This will returns the dataframe with all wrong answers.\n",
    "\n",
    "2. **remove_overlap**: This function takes two datafram and return ONE dataframe that all overlapped rows are removed from the bigger dataframe. \n",
    "\n",
    "3. **narrower_w_keywords**: This function takes a dataframe and keywords, and returns a row that contains at least one keywords. \n",
    "\n",
    "4. **narrower_wo_keywords**: This function takes a dataframe and keywords, and returns a row that doesn't contain any keywords. \n",
    "\n",
    "5. **add_correction**: This function takes a dataframe and returns a dataframe with extra column named correction. This columns will contain string \"Correct\" for all rows for the default option, but you can manually change it."
   ]
  },
  {
   "cell_type": "code",
   "execution_count": 2,
   "id": "45242f17-18cb-475a-a64c-a71eb2637816",
   "metadata": {},
   "outputs": [],
   "source": [
    "## This function detects the row with completely wrong answer \n",
    "## Wrong answer = \"Don't Know\" + \"NA\" \n",
    "## Returns the dataframe with Wrong answer: This will be the \"I\" (incorrect) group\n",
    "## Note: DONT KNOW should be changed to Spanish, if we are going to sort the Spanish response.\n",
    "\n",
    "detecting_I <- function(df) {\n",
    "    incorrect <- df %>% filter(is.na(Response) | str_detect(df[ ,'Response'], \"DONT KNOW\"))\n",
    "    return(incorrect)\n",
    "}"
   ]
  },
  {
   "cell_type": "code",
   "execution_count": 3,
   "id": "632cfff9-7540-4ff3-9a93-dd53bb592560",
   "metadata": {},
   "outputs": [],
   "source": [
    "## This function takes a two dataframe\n",
    "## Return a dataframe that overlapped rows are removed from the bigger dataframe\n",
    "\n",
    "remove_overlap <- function(bigger_df, smaller_df) {\n",
    "    `%nin%` = Negate(`%in%`)\n",
    "    return(bigger_df %>% filter(Student_ID %nin% smaller_df$Student_ID))\n",
    "    }"
   ]
  },
  {
   "cell_type": "code",
   "execution_count": 4,
   "id": "5c6da8c9-37cd-4c36-be8e-bae24001ac36",
   "metadata": {},
   "outputs": [],
   "source": [
    "## This function takes a key words and dataframe, \n",
    "## Returns the dataframe with keywords\n",
    "## It narrows down the entire dataset to smaller subsets. \n",
    "## Example format of keywords: keywords = \"ONE|TWO|THREE\"\n",
    "## Note: the keywords above will also detect the rows that cotains \"TWOWELVE\" since it also contains TWO. \n",
    "## Note: If you want to avoid this write it as \"ONE| TWO |THREE\" or utilize some regex expression.\n",
    "## Note: This has some advantage to our algorithm since we don't need to be stressed our by additional -s (plaurl/3rd person verb)\n",
    "\n",
    "narrower_w_keywords <- function(df, keywords) {\n",
    "    vector_of_answer <- df[ ,'Response'] \n",
    "    rows_w_keywords <- str_detect(vector_of_answer, keywords)\n",
    "    return(df[rows_w_keywords, ])\n",
    "    }\n",
    "\n",
    "narrower_wo_keywords <- function(df, keywords) {\n",
    "    vector_of_answer <- df[ ,'Response'] \n",
    "    rows_wo_keywords <- str_detect(vector_of_answer, keywords, negate = TRUE)\n",
    "    return(df[rows_wo_keywords, ])\n",
    "    }\n"
   ]
  },
  {
   "cell_type": "code",
   "execution_count": 5,
   "id": "426218a2-96f5-4679-a4f2-dc9ddfdc8bd3",
   "metadata": {},
   "outputs": [],
   "source": [
    "## This function add another column \"Correction\" (either \"Correct\" or \"Incorrect\")\n",
    "\n",
    "add_correction <- function(df, result = \"Correct\") {\n",
    "    df$Correction <- result\n",
    "    return(df) \n",
    "    }\n"
   ]
  },
  {
   "cell_type": "markdown",
   "id": "7f837194-a9a4-4bae-8bdc-8ef9f23c1ab7",
   "metadata": {},
   "source": [
    "## Demonstration \n",
    "\n",
    "### STEP 1: Define a dataframe that will contain all incorrect responses using *detecting_I*"
   ]
  },
  {
   "cell_type": "code",
   "execution_count": 6,
   "id": "67952700-2f08-4c6f-9500-a1bbf693eac5",
   "metadata": {},
   "outputs": [
    {
     "data": {
      "text/html": [
       "<table>\n",
       "<thead><tr><th scope=col>Code</th><th scope=col>Student_ID</th><th scope=col>Form</th><th scope=col>Original_Response</th><th scope=col>Response</th></tr></thead>\n",
       "<tbody>\n",
       "\t<tr><td>141100009                                                                                           </td><td>200645                                                                                              </td><td>A                                                                                                   </td><td>PORQUE LAS BURBUJAS ESTAN LLENAS DE AIRE OCIGENO Y NO DURAN DENTRO DEL AGUA POR ESO.                </td><td>BECAUSE THE BUBBLES ARE FILLED WITH OXYGEN AIR AND DO NOT LAST IN THE WATER FOR THAT REASON.        </td></tr>\n",
       "\t<tr><td>141100009                                                                                           </td><td>200642                                                                                              </td><td>B                                                                                                   </td><td>LAS BURBUJAS SUBEN EN EL AGUA PORQUE SOPLAMOS.                                                      </td><td>BUBBLES RISE IN THE WATER BECAUSE WE BLOW.                                                          </td></tr>\n",
       "\t<tr><td>141100009                                                                                           </td><td>200643                                                                                              </td><td>A                                                                                                   </td><td>PORQUE LAS BURBUAS SALEN Y SALEN DEL POPOTE Y COMO NO TIENEN GRAVEDAD SUBEN Y SUBEN FLOTANDO.       </td><td>BECAUSE THE BUBBLES COME AND COME OUT OF THE STRAW AND AS THEY HAVE NO GRAVITY THEY FLOAT UP AND UP.</td></tr>\n",
       "\t<tr><td>141100009                                                                                           </td><td>200646                                                                                              </td><td>B                                                                                                   </td><td>PORQUE ESAS BURVUJAS SE EXPANDEN                                                                    </td><td>BECAUSE THOSE BURVETS EXPAND                                                                        </td></tr>\n",
       "\t<tr><td>141100009                                                                                           </td><td>200644                                                                                              </td><td>B                                                                                                   </td><td>PORQUE CUANDO UNO SOPLA SE ACEN BURBUJAS Y SE VAN A LAS NUBES Y SE ASE AGUA.                        </td><td>BECAUSE WHEN ONE BLOWS, BUBBLES BECOME AND THEY GO TO THE CLOUDS AND WATER IS GROWN.                </td></tr>\n",
       "</tbody>\n",
       "</table>\n"
      ],
      "text/latex": [
       "\\begin{tabular}{r|lllll}\n",
       " Code & Student\\_ID & Form & Original\\_Response & Response\\\\\n",
       "\\hline\n",
       "\t 141100009                                                                                            & 200645                                                                                               & A                                                                                                    & PORQUE LAS BURBUJAS ESTAN LLENAS DE AIRE OCIGENO Y NO DURAN DENTRO DEL AGUA POR ESO.                 & BECAUSE THE BUBBLES ARE FILLED WITH OXYGEN AIR AND DO NOT LAST IN THE WATER FOR THAT REASON.        \\\\\n",
       "\t 141100009                                                                                            & 200642                                                                                               & B                                                                                                    & LAS BURBUJAS SUBEN EN EL AGUA PORQUE SOPLAMOS.                                                       & BUBBLES RISE IN THE WATER BECAUSE WE BLOW.                                                          \\\\\n",
       "\t 141100009                                                                                            & 200643                                                                                               & A                                                                                                    & PORQUE LAS BURBUAS SALEN Y SALEN DEL POPOTE Y COMO NO TIENEN GRAVEDAD SUBEN Y SUBEN FLOTANDO.        & BECAUSE THE BUBBLES COME AND COME OUT OF THE STRAW AND AS THEY HAVE NO GRAVITY THEY FLOAT UP AND UP.\\\\\n",
       "\t 141100009                                                                                            & 200646                                                                                               & B                                                                                                    & PORQUE ESAS BURVUJAS SE EXPANDEN                                                                     & BECAUSE THOSE BURVETS EXPAND                                                                        \\\\\n",
       "\t 141100009                                                                                            & 200644                                                                                               & B                                                                                                    & PORQUE CUANDO UNO SOPLA SE ACEN BURBUJAS Y SE VAN A LAS NUBES Y SE ASE AGUA.                         & BECAUSE WHEN ONE BLOWS, BUBBLES BECOME AND THEY GO TO THE CLOUDS AND WATER IS GROWN.                \\\\\n",
       "\\end{tabular}\n"
      ],
      "text/markdown": [
       "\n",
       "| Code | Student_ID | Form | Original_Response | Response |\n",
       "|---|---|---|---|---|\n",
       "| 141100009                                                                                            | 200645                                                                                               | A                                                                                                    | PORQUE LAS BURBUJAS ESTAN LLENAS DE AIRE OCIGENO Y NO DURAN DENTRO DEL AGUA POR ESO.                 | BECAUSE THE BUBBLES ARE FILLED WITH OXYGEN AIR AND DO NOT LAST IN THE WATER FOR THAT REASON.         |\n",
       "| 141100009                                                                                            | 200642                                                                                               | B                                                                                                    | LAS BURBUJAS SUBEN EN EL AGUA PORQUE SOPLAMOS.                                                       | BUBBLES RISE IN THE WATER BECAUSE WE BLOW.                                                           |\n",
       "| 141100009                                                                                            | 200643                                                                                               | A                                                                                                    | PORQUE LAS BURBUAS SALEN Y SALEN DEL POPOTE Y COMO NO TIENEN GRAVEDAD SUBEN Y SUBEN FLOTANDO.        | BECAUSE THE BUBBLES COME AND COME OUT OF THE STRAW AND AS THEY HAVE NO GRAVITY THEY FLOAT UP AND UP. |\n",
       "| 141100009                                                                                            | 200646                                                                                               | B                                                                                                    | PORQUE ESAS BURVUJAS SE EXPANDEN                                                                     | BECAUSE THOSE BURVETS EXPAND                                                                         |\n",
       "| 141100009                                                                                            | 200644                                                                                               | B                                                                                                    | PORQUE CUANDO UNO SOPLA SE ACEN BURBUJAS Y SE VAN A LAS NUBES Y SE ASE AGUA.                         | BECAUSE WHEN ONE BLOWS, BUBBLES BECOME AND THEY GO TO THE CLOUDS AND WATER IS GROWN.                 |\n",
       "\n"
      ],
      "text/plain": [
       "  Code      Student_ID Form\n",
       "1 141100009 200645     A   \n",
       "2 141100009 200642     B   \n",
       "3 141100009 200643     A   \n",
       "4 141100009 200646     B   \n",
       "5 141100009 200644     B   \n",
       "  Original_Response                                                                            \n",
       "1 PORQUE LAS BURBUJAS ESTAN LLENAS DE AIRE OCIGENO Y NO DURAN DENTRO DEL AGUA POR ESO.         \n",
       "2 LAS BURBUJAS SUBEN EN EL AGUA PORQUE SOPLAMOS.                                               \n",
       "3 PORQUE LAS BURBUAS SALEN Y SALEN DEL POPOTE Y COMO NO TIENEN GRAVEDAD SUBEN Y SUBEN FLOTANDO.\n",
       "4 PORQUE ESAS BURVUJAS SE EXPANDEN                                                             \n",
       "5 PORQUE CUANDO UNO SOPLA SE ACEN BURBUJAS Y SE VAN A LAS NUBES Y SE ASE AGUA.                 \n",
       "  Response                                                                                            \n",
       "1 BECAUSE THE BUBBLES ARE FILLED WITH OXYGEN AIR AND DO NOT LAST IN THE WATER FOR THAT REASON.        \n",
       "2 BUBBLES RISE IN THE WATER BECAUSE WE BLOW.                                                          \n",
       "3 BECAUSE THE BUBBLES COME AND COME OUT OF THE STRAW AND AS THEY HAVE NO GRAVITY THEY FLOAT UP AND UP.\n",
       "4 BECAUSE THOSE BURVETS EXPAND                                                                        \n",
       "5 BECAUSE WHEN ONE BLOWS, BUBBLES BECOME AND THEY GO TO THE CLOUDS AND WATER IS GROWN.                "
      ]
     },
     "metadata": {},
     "output_type": "display_data"
    }
   ],
   "source": [
    "# Extract columns we want, combine with translated response \n",
    "# Rename the columns. Make sure we name the column that we want to correct as \"Response\"\n",
    "our_interest <- select(raw_data, CODECEN, CUADERNILLO, FORMA, PC)\n",
    "final_df <- cbind(our_interest, translated_pc)\n",
    "colnames(final_df) <- c(\"Code\", \"Student_ID\", \"Form\", \"Original_Response\",\"Response\")\n",
    "head(final_df, 5)"
   ]
  },
  {
   "cell_type": "code",
   "execution_count": 7,
   "id": "1efca7ba-1da0-422b-8f8c-8d6082d47ebb",
   "metadata": {},
   "outputs": [],
   "source": [
    "# Define the dataframe that will contain all of the incorrect answer\n",
    "I <- detecting_I(final_df)\n",
    "\n",
    "# Update the final_df so that we can get our dataset without those rows we detetcted. \n",
    "final_df <- remove_overlap(final_df, I) "
   ]
  },
  {
   "cell_type": "code",
   "execution_count": 8,
   "id": "970fde26-197f-40b2-8df7-87d65cd698b2",
   "metadata": {},
   "outputs": [
    {
     "data": {
      "text/html": [
       "<table>\n",
       "<thead><tr><th scope=col>Code</th><th scope=col>Student_ID</th><th scope=col>Form</th><th scope=col>Original_Response</th><th scope=col>Response</th></tr></thead>\n",
       "<tbody>\n",
       "\t<tr><td>130800004     </td><td>200206        </td><td>B             </td><td>NO SE         </td><td>I DONT KNOW   </td></tr>\n",
       "\t<tr><td>140500001     </td><td>200154        </td><td>B             </td><td>NO LA SE      </td><td>I DONT KNOW IT</td></tr>\n",
       "\t<tr><td>120500071     </td><td>200220        </td><td>B             </td><td>NA            </td><td>NA            </td></tr>\n",
       "\t<tr><td>020900023     </td><td>200056        </td><td>B             </td><td>NA            </td><td>NA            </td></tr>\n",
       "\t<tr><td>020900023     </td><td>200060        </td><td>B             </td><td>NA            </td><td>NA            </td></tr>\n",
       "</tbody>\n",
       "</table>\n"
      ],
      "text/latex": [
       "\\begin{tabular}{r|lllll}\n",
       " Code & Student\\_ID & Form & Original\\_Response & Response\\\\\n",
       "\\hline\n",
       "\t 130800004      & 200206         & B              & NO SE          & I DONT KNOW   \\\\\n",
       "\t 140500001      & 200154         & B              & NO LA SE       & I DONT KNOW IT\\\\\n",
       "\t 120500071      & 200220         & B              & NA             & NA            \\\\\n",
       "\t 020900023      & 200056         & B              & NA             & NA            \\\\\n",
       "\t 020900023      & 200060         & B              & NA             & NA            \\\\\n",
       "\\end{tabular}\n"
      ],
      "text/markdown": [
       "\n",
       "| Code | Student_ID | Form | Original_Response | Response |\n",
       "|---|---|---|---|---|\n",
       "| 130800004      | 200206         | B              | NO SE          | I DONT KNOW    |\n",
       "| 140500001      | 200154         | B              | NO LA SE       | I DONT KNOW IT |\n",
       "| 120500071      | 200220         | B              | NA             | NA             |\n",
       "| 020900023      | 200056         | B              | NA             | NA             |\n",
       "| 020900023      | 200060         | B              | NA             | NA             |\n",
       "\n"
      ],
      "text/plain": [
       "  Code      Student_ID Form Original_Response Response      \n",
       "1 130800004 200206     B    NO SE             I DONT KNOW   \n",
       "2 140500001 200154     B    NO LA SE          I DONT KNOW IT\n",
       "3 120500071 200220     B    NA                NA            \n",
       "4 020900023 200056     B    NA                NA            \n",
       "5 020900023 200060     B    NA                NA            "
      ]
     },
     "metadata": {},
     "output_type": "display_data"
    }
   ],
   "source": [
    "#Check I \n",
    "head(I,5)"
   ]
  },
  {
   "cell_type": "markdown",
   "id": "aab5a082-d698-4aaa-9b16-71b2505044a9",
   "metadata": {},
   "source": [
    "### STEP 2: Add more inccorect answer using *narrower_w_keywords* and *narrower_wo_keywords*"
   ]
  },
  {
   "cell_type": "code",
   "execution_count": 9,
   "id": "ad555d20-66dc-4dec-948e-2d4871e3cc5b",
   "metadata": {},
   "outputs": [],
   "source": [
    "# Since Answer key said the correct answer should refer to Bubbles/Gas, the answer that doesn't include\n",
    "# these words have high chance to be incorrect \n",
    "keywords = \"THEY|GAS|BUBBLE|CARBON DIOXIDE|AIR|OXYGEN\"\n",
    "incorrect <- narrower_wo_keywords(final_df, keywords)\n",
    "final_df <- remove_overlap(final_df, incorrect)\n",
    "#Our new set of incorrect answer has to the row binded to the I that we defined in STEP 1.\n",
    "I = rbind(I, incorrect)"
   ]
  },
  {
   "cell_type": "code",
   "execution_count": 10,
   "id": "b7387ac1-41ae-4477-845a-1ac8132eeccd",
   "metadata": {},
   "outputs": [],
   "source": [
    "#According to Answer key, there are some words that frequently appear in wrong answer \n",
    "keywords = \"EVAPORATE|PRESSURE|FORCE|BREATHING|WIND|GRAVITY|WEIGH|WHY|MIX|STRENGTH\"\n",
    "incorrect = narrower_w_keywords(final_df, keywords)\n",
    "final_df <- remove_overlap(final_df, incorrect)\n",
    "I = rbind(I, incorrect)"
   ]
  },
  {
   "cell_type": "code",
   "execution_count": 11,
   "id": "05116cf6-8564-4980-99a4-7757d3a12d5f",
   "metadata": {},
   "outputs": [],
   "source": [
    "#Common Wrong Anwer usually contains only \"BLOWS\" without referring to gas.\n",
    "incorrect <- final_df %>% narrower_w_keywords(\"BLOW\") %>% narrower_wo_keywords(\"GAS|CARBON DIOXIDE|AIR|OXYGEN\")\n",
    "final_df <- remove_overlap(final_df, incorrect)\n",
    "I = rbind(I, incorrect)"
   ]
  },
  {
   "cell_type": "code",
   "execution_count": 12,
   "id": "005ef7ca-05f7-4968-8f32-c47cdc92f070",
   "metadata": {},
   "outputs": [],
   "source": [
    "#BLOW + STARW without mentioning gas usually appears in wrong response.\n",
    "incorrect <- final_df %>% narrower_w_keywords(\"BLOW\") %>% narrower_w_keywords(\"STRAW\") %>% narrower_wo_keywords(\"GAS|CARBON DIOXIDE|AIR|OXYGEN\")\n",
    "final_df <- remove_overlap(final_df, incorrect)\n",
    "I = rbind(I, incorrect)"
   ]
  },
  {
   "cell_type": "code",
   "execution_count": 13,
   "id": "177e46ba-0123-4890-b3b1-06d13b1dfd08",
   "metadata": {},
   "outputs": [
    {
     "data": {
      "text/html": [
       "290"
      ],
      "text/latex": [
       "290"
      ],
      "text/markdown": [
       "290"
      ],
      "text/plain": [
       "[1] 290"
      ]
     },
     "metadata": {},
     "output_type": "display_data"
    }
   ],
   "source": [
    "nrow(I)"
   ]
  },
  {
   "cell_type": "markdown",
   "id": "e07e82f9-ff1d-474e-8af9-388dedd5bab0",
   "metadata": {},
   "source": [
    "### STEP 3: Define a dataframe that will contain all correct responses"
   ]
  },
  {
   "cell_type": "code",
   "execution_count": 14,
   "id": "7ae16f42-0b0c-49ae-bb32-da9b15796a66",
   "metadata": {},
   "outputs": [],
   "source": [
    "#According to Answer Key, there are some words/phrases that frequently appear in correct response \n",
    "keywords = \"LIGHT|LESS DENSE|NOT HEAVY|FLOAT|AIR RISES\"\n",
    "correct = narrower_w_keywords(final_df, keywords) \n",
    "final_df <- remove_overlap(final_df, correct)\n",
    "# Define a dataframe with only the correct response.\n",
    "C = correct"
   ]
  },
  {
   "cell_type": "code",
   "execution_count": 15,
   "id": "767dc6de-1131-4db6-a99c-2baa815b4213",
   "metadata": {},
   "outputs": [],
   "source": [
    "# Blow + GAS is usually a correct answer \n",
    "correct = final_df %>% narrower_w_keywords(\"BLOW\") %>% narrower_w_keywords(\"AIR|OXYGEN|CARBON DIOXIDE|GAS\")\n",
    "final_df <- remove_overlap(final_df, correct)\n",
    "#Row bind our new set of correct answer to the existing dataframe\n",
    "C = rbind(C, correct)"
   ]
  },
  {
   "cell_type": "code",
   "execution_count": 16,
   "id": "d6cb7dc5-2afc-48e8-a207-8055c553397b",
   "metadata": {},
   "outputs": [],
   "source": [
    "# AIR + BUBBLES, PUSH, RISE are common combination of a correct answer \n",
    "correct = final_df %>% narrower_w_keywords(\"AIR\") %>% narrower_w_keywords(\"BUBBLE|PUSH|RISE|EXPELL|OUT\")\n",
    "final_df <- remove_overlap(final_df, correct)\n",
    "C = rbind(C, correct)"
   ]
  },
  {
   "cell_type": "code",
   "execution_count": 17,
   "id": "2a81541f-dca0-4d6d-b470-ed1eb40cbffe",
   "metadata": {},
   "outputs": [],
   "source": [
    "# Student who answered with some scientific term such as OXYGEN and CARBON DIOXIDE has higher chnace to be correct\n",
    "correct = final_df %>% narrower_w_keywords(\"OXYGEN|CARBON DIOXIDE\")\n",
    "final_df <- remove_overlap(final_df, correct)\n",
    "C = rbind(C, correct)"
   ]
  },
  {
   "cell_type": "code",
   "execution_count": 18,
   "id": "980dbdd1-62fc-49fe-a1bf-00d54951ff93",
   "metadata": {},
   "outputs": [],
   "source": [
    "# WATRER + PUSH or AIR PUSH is usually a correct answer \n",
    "correct = final_df %>% narrower_w_keywords(\"WATER|AIR\") %>% narrower_w_keywords(\"PUSH\")\n",
    "final_df <- remove_overlap(final_df, correct)\n",
    "#Row bind our new set of correct answer to the existing dataframe\n",
    "C = rbind(C, correct)"
   ]
  },
  {
   "cell_type": "markdown",
   "id": "7ade3405-4150-46d0-80c3-258f2f4956bd",
   "metadata": {},
   "source": [
    "### STEP 4: Assign the unclassified one into class H, add column using *add_correction* to each DF"
   ]
  },
  {
   "cell_type": "code",
   "execution_count": 19,
   "id": "7b468942-8dc0-41a7-9e1b-330aa8df64a4",
   "metadata": {},
   "outputs": [],
   "source": [
    "C = add_correction(C) \n",
    "I = add_correction(I, \"Incorrect\")\n",
    "\n",
    "#We will make the column with \"Incorrect\" because it makes grading easier.\n",
    "H = final_df %>% add_correction(\"Incorrect\")"
   ]
  },
  {
   "cell_type": "code",
   "execution_count": 20,
   "id": "2ad34688-0e6f-4d51-a6e0-7e256bf5e4cb",
   "metadata": {},
   "outputs": [
    {
     "data": {
      "text/html": [
       "<table>\n",
       "<thead><tr><th scope=col>Code</th><th scope=col>Student_ID</th><th scope=col>Form</th><th scope=col>Original_Response</th><th scope=col>Response</th><th scope=col>Correction</th></tr></thead>\n",
       "<tbody>\n",
       "\t<tr><td>121200006                                                                                                                                 </td><td>200712                                                                                                                                    </td><td>B                                                                                                                                         </td><td>POR QUE AL SOPOPLAR CON UNA PAGIA EL VIENTO QUE UNO PORPOSPONA ASE QUE EL AGUA SE LEBANTE COMO BURBUJAS SOBLE EL VASO                     </td><td>BECAUSE BY BLOWING WITH A PAGE THE WIND THAT ONE POSTPOSES MAKES THE WATER RISE LIKE BUBBLES SOUND THE GLASS                              </td><td>Incorrect                                                                                                                                 </td></tr>\n",
       "\t<tr><td>180100026                                                                                                                                 </td><td>200120                                                                                                                                    </td><td>B                                                                                                                                         </td><td>8                                                                                                                                         </td><td>8                                                                                                                                         </td><td>Incorrect                                                                                                                                 </td></tr>\n",
       "\t<tr><td>130800004                                                                                                                                 </td><td>200207                                                                                                                                    </td><td>A                                                                                                                                         </td><td>PORQUE EL AGUA FLUYE Y LAS ELEBA A LA SURPERFICIE.                                                                                        </td><td>BECAUSE THE WATER FLOWS AND LIFTS THEM TO THE SURFACE.                                                                                    </td><td>Incorrect                                                                                                                                 </td></tr>\n",
       "\t<tr><td>180100186                                                                                                                                 </td><td>200594                                                                                                                                    </td><td>B                                                                                                                                         </td><td>LAS BURBUJAS SUBEN EN EL AGUA PORQUE LA FUERZA QUE LE HACE EL AIRE ABAJO ELLAS SUBEN HACIA ARRIBA                                         </td><td>THE BUBBLES RISE IN THE WATER BECAUSE THE FORCE THAT THE AIR MAKES IT DOWN THEY RISE UPWARDS                                              </td><td>Incorrect                                                                                                                                 </td></tr>\n",
       "\t<tr><td>030100041                                                                                                                                 </td><td>200741                                                                                                                                    </td><td>A                                                                                                                                         </td><td>PORQUE EL BAPOR DEL AGUA ES MUY SUFISIENTE                                                                                                </td><td>BECAUSE THE STEAM OF THE WATER IS VERY SUFFICIENT                                                                                         </td><td>Incorrect                                                                                                                                 </td></tr>\n",
       "\t<tr><td>020900001                                                                                                                                 </td><td>200554                                                                                                                                    </td><td>B                                                                                                                                         </td><td>POR QUE LAS BURBUJAS SON DE HAIRE Y EL HAIRE ESTA ARRIBA DEL AGUA POR ESO LAS BURBUJASSUBEN                                               </td><td>BECAUSE THE BUBBLES ARE MADE OF HAIR AND THE HAIR IS ABOVE THE WATER THAT'S WHY THE BUBBLES RISE                                          </td><td>Incorrect                                                                                                                                 </td></tr>\n",
       "\t<tr><td>160700004                                                                                                                                 </td><td>200133                                                                                                                                    </td><td>A                                                                                                                                         </td><td>POR QUE EN LO QUE SOPLA POR LA PAJILLA EL AIRE CAEN CON FUERZA PRODUCE UN BURBUJITAS PEQUE!AS                                             </td><td>BECAUSE AS IT BLOWS THROUGH THE STRAW, THE AIR FALLS WITH FORCE, PRODUCING SMALL BUBBLES!                                                 </td><td>Incorrect                                                                                                                                 </td></tr>\n",
       "\t<tr><td>141100009                                                                                                                                 </td><td>200644                                                                                                                                    </td><td>B                                                                                                                                         </td><td>PORQUE CUANDO UNO SOPLA SE ACEN BURBUJAS Y SE VAN A LAS NUBES Y SE ASE AGUA.                                                              </td><td>BECAUSE WHEN ONE BLOWS, BUBBLES BECOME AND THEY GO TO THE CLOUDS AND WATER IS GROWN.                                                      </td><td>Incorrect                                                                                                                                 </td></tr>\n",
       "\t<tr><td>030100041                                                                                                                                 </td><td>200742                                                                                                                                    </td><td>B                                                                                                                                         </td><td>PORQUE BARANTE EL TIEMPO QUE ABSORVE COMO ENSALA Y DESASALA                                                                               </td><td>BECAUSE IT BARANTE THE TIME THAT ABSORBS AS SALAD AND DESALATION                                                                          </td><td>Incorrect                                                                                                                                 </td></tr>\n",
       "\t<tr><td>140500001                                                                                                                                 </td><td>200154                                                                                                                                    </td><td>B                                                                                                                                         </td><td>NO LA SE                                                                                                                                  </td><td>I DONT KNOW IT                                                                                                                            </td><td>Incorrect                                                                                                                                 </td></tr>\n",
       "\t<tr><td>120500071                                                                                                                                 </td><td>200308                                                                                                                                    </td><td>B                                                                                                                                         </td><td>PORQUE UNO SOPLA                                                                                                                          </td><td>BECAUSE ONE BLOWS                                                                                                                         </td><td>Incorrect                                                                                                                                 </td></tr>\n",
       "\t<tr><td>020900012                                                                                                                                 </td><td>200099                                                                                                                                    </td><td>A                                                                                                                                         </td><td>POR QUE CUANDO NOSOTROS SOPLAMOS DENTRO DEL EL VASO COMIENSA A SALIR BURBUJAS SOLO AMADER EL AGUA CON LA POPOTE                           </td><td>BECAUSE WHEN WE BLOW INSIDE THE GLASS BEGINS TO COME OUT BUBBLES ONLY AMADER THE WATER WITH THE STRAW                                     </td><td>Incorrect                                                                                                                                 </td></tr>\n",
       "\t<tr><td>010500004                                                                                                                                 </td><td>200521                                                                                                                                    </td><td>A                                                                                                                                         </td><td>POR QUE EL HOMBRE ESPULSA AIRE DE SU BOCA                                                                                                 </td><td>WHY DOES MAN EXPELL AIR FROM HIS MOUTH?                                                                                                   </td><td>Incorrect                                                                                                                                 </td></tr>\n",
       "\t<tr><td>140500001                                                                                                                                 </td><td>200631                                                                                                                                    </td><td>A                                                                                                                                         </td><td>PORQUE CUANDO UNA HACE FUERZA HACIA ARRIBA CON LA PAJILLA Y HAY MAS AGUA LA OTRA AGUA PRODUCE QUE LA AGUA SE SUBA HACIA ARRIBA            </td><td>BECAUSE WHEN ONE FORCES UPWARDS WITH THE STRAW AND THERE IS MORE WATER, THE OTHER WATER CAUSES THE WATER TO RISE UPWARDS                  </td><td>Incorrect                                                                                                                                 </td></tr>\n",
       "\t<tr><td>121200006                                                                                                                                 </td><td>200233                                                                                                                                    </td><td>A                                                                                                                                         </td><td>PORQUE SI UNO SOPLA DENTRO DEL AGUA DEL VASO SE FORMAN BURBUJAS EN EL AGUA SI SOPLA CON UNA PAGIA Y SUBEN ARRIBA PORQUE UNO SOPLA         </td><td>BECAUSE IF YOU BLOW INTO THE WATER OF THE GLASS, BUBBLES FORM IN THE WATER IF YOU BLOW WITH A PAGE AND THEY GO UP BECAUSE YOU BLOW        </td><td>Incorrect                                                                                                                                 </td></tr>\n",
       "\t<tr><td>010500017                                                                                                                                 </td><td>200028                                                                                                                                    </td><td>B                                                                                                                                         </td><td>PORQUE LA PERSONA ESTA SOPLANDO CON UNA PAJILLA                                                                                           </td><td>BECAUSE THE PERSON IS BLOWING INTO A STRAW                                                                                                </td><td>Incorrect                                                                                                                                 </td></tr>\n",
       "\t<tr><td>020900012                                                                                                                                 </td><td>200586                                                                                                                                    </td><td>B                                                                                                                                         </td><td>POR QUE JUCAMOS EL AGUA POR ESO FOLTA EL ACUC USIRIBA                                                                                     </td><td>WHY WE DRAIN THE WATER THAT'S WHY THE ACUC USIRIBA FOLTA                                                                                  </td><td>Incorrect                                                                                                                                 </td></tr>\n",
       "\t<tr><td>010500017                                                                                                                                 </td><td>200530                                                                                                                                    </td><td>B                                                                                                                                         </td><td>PORQUE LA FUERZA QUE EL HACE POR LA PAJILLA SUBE YLE DA UN GRAN AIRE                                                                      </td><td>BECAUSE THE FORCE HE DOES THROUGH THE STRAW GOES UP AND GIVES HIM A GREAT AIR                                                             </td><td>Incorrect                                                                                                                                 </td></tr>\n",
       "\t<tr><td>100600048                                                                                                                                 </td><td>200654                                                                                                                                    </td><td>B                                                                                                                                         </td><td>PORQUE CUANDO SOPLA EN EL UN VASO SALEN BURBUJAS Y ESTO SUCEDE CUANDO UNO SOPLA SOBRE LA PAJILLA Y POR ESO LAS BURBUJAS SUBER HACIA ARRIBA</td><td>BECAUSE WHEN YOU BLOW INTO A GLASS, BUBBLES COME OUT AND THIS HAPPENS WHEN YOU BLOW ON THE STRAW AND THAT'S WHY THE BUBBLES GO UPWARDS    </td><td>Incorrect                                                                                                                                 </td></tr>\n",
       "\t<tr><td>180100186                                                                                                                                 </td><td>200102                                                                                                                                    </td><td>B                                                                                                                                         </td><td>SI YO VEVO AVUA Y LE PONGO UNA PAJIA SE SUPONDE VURVUJA                                                                                   </td><td>IF I SEE AVUA AND I PUT A PAJAA ON IT, IT IS SUPPOSED TO BE VURVUJA                                                                       </td><td>Incorrect                                                                                                                                 </td></tr>\n",
       "</tbody>\n",
       "</table>\n"
      ],
      "text/latex": [
       "\\begin{tabular}{r|llllll}\n",
       " Code & Student\\_ID & Form & Original\\_Response & Response & Correction\\\\\n",
       "\\hline\n",
       "\t 121200006                                                                                                                                  & 200712                                                                                                                                     & B                                                                                                                                          & POR QUE AL SOPOPLAR CON UNA PAGIA EL VIENTO QUE UNO PORPOSPONA ASE QUE EL AGUA SE LEBANTE COMO BURBUJAS SOBLE EL VASO                      & BECAUSE BY BLOWING WITH A PAGE THE WIND THAT ONE POSTPOSES MAKES THE WATER RISE LIKE BUBBLES SOUND THE GLASS                               & Incorrect                                                                                                                                 \\\\\n",
       "\t 180100026                                                                                                                                  & 200120                                                                                                                                     & B                                                                                                                                          & 8                                                                                                                                          & 8                                                                                                                                          & Incorrect                                                                                                                                 \\\\\n",
       "\t 130800004                                                                                                                                  & 200207                                                                                                                                     & A                                                                                                                                          & PORQUE EL AGUA FLUYE Y LAS ELEBA A LA SURPERFICIE.                                                                                         & BECAUSE THE WATER FLOWS AND LIFTS THEM TO THE SURFACE.                                                                                     & Incorrect                                                                                                                                 \\\\\n",
       "\t 180100186                                                                                                                                  & 200594                                                                                                                                     & B                                                                                                                                          & LAS BURBUJAS SUBEN EN EL AGUA PORQUE LA FUERZA QUE LE HACE EL AIRE ABAJO ELLAS SUBEN HACIA ARRIBA                                          & THE BUBBLES RISE IN THE WATER BECAUSE THE FORCE THAT THE AIR MAKES IT DOWN THEY RISE UPWARDS                                               & Incorrect                                                                                                                                 \\\\\n",
       "\t 030100041                                                                                                                                  & 200741                                                                                                                                     & A                                                                                                                                          & PORQUE EL BAPOR DEL AGUA ES MUY SUFISIENTE                                                                                                 & BECAUSE THE STEAM OF THE WATER IS VERY SUFFICIENT                                                                                          & Incorrect                                                                                                                                 \\\\\n",
       "\t 020900001                                                                                                                                  & 200554                                                                                                                                     & B                                                                                                                                          & POR QUE LAS BURBUJAS SON DE HAIRE Y EL HAIRE ESTA ARRIBA DEL AGUA POR ESO LAS BURBUJASSUBEN                                                & BECAUSE THE BUBBLES ARE MADE OF HAIR AND THE HAIR IS ABOVE THE WATER THAT'S WHY THE BUBBLES RISE                                           & Incorrect                                                                                                                                 \\\\\n",
       "\t 160700004                                                                                                                                  & 200133                                                                                                                                     & A                                                                                                                                          & POR QUE EN LO QUE SOPLA POR LA PAJILLA EL AIRE CAEN CON FUERZA PRODUCE UN BURBUJITAS PEQUE!AS                                              & BECAUSE AS IT BLOWS THROUGH THE STRAW, THE AIR FALLS WITH FORCE, PRODUCING SMALL BUBBLES!                                                  & Incorrect                                                                                                                                 \\\\\n",
       "\t 141100009                                                                                                                                  & 200644                                                                                                                                     & B                                                                                                                                          & PORQUE CUANDO UNO SOPLA SE ACEN BURBUJAS Y SE VAN A LAS NUBES Y SE ASE AGUA.                                                               & BECAUSE WHEN ONE BLOWS, BUBBLES BECOME AND THEY GO TO THE CLOUDS AND WATER IS GROWN.                                                       & Incorrect                                                                                                                                 \\\\\n",
       "\t 030100041                                                                                                                                  & 200742                                                                                                                                     & B                                                                                                                                          & PORQUE BARANTE EL TIEMPO QUE ABSORVE COMO ENSALA Y DESASALA                                                                                & BECAUSE IT BARANTE THE TIME THAT ABSORBS AS SALAD AND DESALATION                                                                           & Incorrect                                                                                                                                 \\\\\n",
       "\t 140500001                                                                                                                                  & 200154                                                                                                                                     & B                                                                                                                                          & NO LA SE                                                                                                                                   & I DONT KNOW IT                                                                                                                             & Incorrect                                                                                                                                 \\\\\n",
       "\t 120500071                                                                                                                                  & 200308                                                                                                                                     & B                                                                                                                                          & PORQUE UNO SOPLA                                                                                                                           & BECAUSE ONE BLOWS                                                                                                                          & Incorrect                                                                                                                                 \\\\\n",
       "\t 020900012                                                                                                                                  & 200099                                                                                                                                     & A                                                                                                                                          & POR QUE CUANDO NOSOTROS SOPLAMOS DENTRO DEL EL VASO COMIENSA A SALIR BURBUJAS SOLO AMADER EL AGUA CON LA POPOTE                            & BECAUSE WHEN WE BLOW INSIDE THE GLASS BEGINS TO COME OUT BUBBLES ONLY AMADER THE WATER WITH THE STRAW                                      & Incorrect                                                                                                                                 \\\\\n",
       "\t 010500004                                                                                                                                  & 200521                                                                                                                                     & A                                                                                                                                          & POR QUE EL HOMBRE ESPULSA AIRE DE SU BOCA                                                                                                  & WHY DOES MAN EXPELL AIR FROM HIS MOUTH?                                                                                                    & Incorrect                                                                                                                                 \\\\\n",
       "\t 140500001                                                                                                                                  & 200631                                                                                                                                     & A                                                                                                                                          & PORQUE CUANDO UNA HACE FUERZA HACIA ARRIBA CON LA PAJILLA Y HAY MAS AGUA LA OTRA AGUA PRODUCE QUE LA AGUA SE SUBA HACIA ARRIBA             & BECAUSE WHEN ONE FORCES UPWARDS WITH THE STRAW AND THERE IS MORE WATER, THE OTHER WATER CAUSES THE WATER TO RISE UPWARDS                   & Incorrect                                                                                                                                 \\\\\n",
       "\t 121200006                                                                                                                                  & 200233                                                                                                                                     & A                                                                                                                                          & PORQUE SI UNO SOPLA DENTRO DEL AGUA DEL VASO SE FORMAN BURBUJAS EN EL AGUA SI SOPLA CON UNA PAGIA Y SUBEN ARRIBA PORQUE UNO SOPLA          & BECAUSE IF YOU BLOW INTO THE WATER OF THE GLASS, BUBBLES FORM IN THE WATER IF YOU BLOW WITH A PAGE AND THEY GO UP BECAUSE YOU BLOW         & Incorrect                                                                                                                                 \\\\\n",
       "\t 010500017                                                                                                                                  & 200028                                                                                                                                     & B                                                                                                                                          & PORQUE LA PERSONA ESTA SOPLANDO CON UNA PAJILLA                                                                                            & BECAUSE THE PERSON IS BLOWING INTO A STRAW                                                                                                 & Incorrect                                                                                                                                 \\\\\n",
       "\t 020900012                                                                                                                                  & 200586                                                                                                                                     & B                                                                                                                                          & POR QUE JUCAMOS EL AGUA POR ESO FOLTA EL ACUC USIRIBA                                                                                      & WHY WE DRAIN THE WATER THAT'S WHY THE ACUC USIRIBA FOLTA                                                                                   & Incorrect                                                                                                                                 \\\\\n",
       "\t 010500017                                                                                                                                  & 200530                                                                                                                                     & B                                                                                                                                          & PORQUE LA FUERZA QUE EL HACE POR LA PAJILLA SUBE YLE DA UN GRAN AIRE                                                                       & BECAUSE THE FORCE HE DOES THROUGH THE STRAW GOES UP AND GIVES HIM A GREAT AIR                                                              & Incorrect                                                                                                                                 \\\\\n",
       "\t 100600048                                                                                                                                  & 200654                                                                                                                                     & B                                                                                                                                          & PORQUE CUANDO SOPLA EN EL UN VASO SALEN BURBUJAS Y ESTO SUCEDE CUANDO UNO SOPLA SOBRE LA PAJILLA Y POR ESO LAS BURBUJAS SUBER HACIA ARRIBA & BECAUSE WHEN YOU BLOW INTO A GLASS, BUBBLES COME OUT AND THIS HAPPENS WHEN YOU BLOW ON THE STRAW AND THAT'S WHY THE BUBBLES GO UPWARDS     & Incorrect                                                                                                                                 \\\\\n",
       "\t 180100186                                                                                                                                  & 200102                                                                                                                                     & B                                                                                                                                          & SI YO VEVO AVUA Y LE PONGO UNA PAJIA SE SUPONDE VURVUJA                                                                                    & IF I SEE AVUA AND I PUT A PAJAA ON IT, IT IS SUPPOSED TO BE VURVUJA                                                                        & Incorrect                                                                                                                                 \\\\\n",
       "\\end{tabular}\n"
      ],
      "text/markdown": [
       "\n",
       "| Code | Student_ID | Form | Original_Response | Response | Correction |\n",
       "|---|---|---|---|---|---|\n",
       "| 121200006                                                                                                                                  | 200712                                                                                                                                     | B                                                                                                                                          | POR QUE AL SOPOPLAR CON UNA PAGIA EL VIENTO QUE UNO PORPOSPONA ASE QUE EL AGUA SE LEBANTE COMO BURBUJAS SOBLE EL VASO                      | BECAUSE BY BLOWING WITH A PAGE THE WIND THAT ONE POSTPOSES MAKES THE WATER RISE LIKE BUBBLES SOUND THE GLASS                               | Incorrect                                                                                                                                  |\n",
       "| 180100026                                                                                                                                  | 200120                                                                                                                                     | B                                                                                                                                          | 8                                                                                                                                          | 8                                                                                                                                          | Incorrect                                                                                                                                  |\n",
       "| 130800004                                                                                                                                  | 200207                                                                                                                                     | A                                                                                                                                          | PORQUE EL AGUA FLUYE Y LAS ELEBA A LA SURPERFICIE.                                                                                         | BECAUSE THE WATER FLOWS AND LIFTS THEM TO THE SURFACE.                                                                                     | Incorrect                                                                                                                                  |\n",
       "| 180100186                                                                                                                                  | 200594                                                                                                                                     | B                                                                                                                                          | LAS BURBUJAS SUBEN EN EL AGUA PORQUE LA FUERZA QUE LE HACE EL AIRE ABAJO ELLAS SUBEN HACIA ARRIBA                                          | THE BUBBLES RISE IN THE WATER BECAUSE THE FORCE THAT THE AIR MAKES IT DOWN THEY RISE UPWARDS                                               | Incorrect                                                                                                                                  |\n",
       "| 030100041                                                                                                                                  | 200741                                                                                                                                     | A                                                                                                                                          | PORQUE EL BAPOR DEL AGUA ES MUY SUFISIENTE                                                                                                 | BECAUSE THE STEAM OF THE WATER IS VERY SUFFICIENT                                                                                          | Incorrect                                                                                                                                  |\n",
       "| 020900001                                                                                                                                  | 200554                                                                                                                                     | B                                                                                                                                          | POR QUE LAS BURBUJAS SON DE HAIRE Y EL HAIRE ESTA ARRIBA DEL AGUA POR ESO LAS BURBUJASSUBEN                                                | BECAUSE THE BUBBLES ARE MADE OF HAIR AND THE HAIR IS ABOVE THE WATER THAT'S WHY THE BUBBLES RISE                                           | Incorrect                                                                                                                                  |\n",
       "| 160700004                                                                                                                                  | 200133                                                                                                                                     | A                                                                                                                                          | POR QUE EN LO QUE SOPLA POR LA PAJILLA EL AIRE CAEN CON FUERZA PRODUCE UN BURBUJITAS PEQUE!AS                                              | BECAUSE AS IT BLOWS THROUGH THE STRAW, THE AIR FALLS WITH FORCE, PRODUCING SMALL BUBBLES!                                                  | Incorrect                                                                                                                                  |\n",
       "| 141100009                                                                                                                                  | 200644                                                                                                                                     | B                                                                                                                                          | PORQUE CUANDO UNO SOPLA SE ACEN BURBUJAS Y SE VAN A LAS NUBES Y SE ASE AGUA.                                                               | BECAUSE WHEN ONE BLOWS, BUBBLES BECOME AND THEY GO TO THE CLOUDS AND WATER IS GROWN.                                                       | Incorrect                                                                                                                                  |\n",
       "| 030100041                                                                                                                                  | 200742                                                                                                                                     | B                                                                                                                                          | PORQUE BARANTE EL TIEMPO QUE ABSORVE COMO ENSALA Y DESASALA                                                                                | BECAUSE IT BARANTE THE TIME THAT ABSORBS AS SALAD AND DESALATION                                                                           | Incorrect                                                                                                                                  |\n",
       "| 140500001                                                                                                                                  | 200154                                                                                                                                     | B                                                                                                                                          | NO LA SE                                                                                                                                   | I DONT KNOW IT                                                                                                                             | Incorrect                                                                                                                                  |\n",
       "| 120500071                                                                                                                                  | 200308                                                                                                                                     | B                                                                                                                                          | PORQUE UNO SOPLA                                                                                                                           | BECAUSE ONE BLOWS                                                                                                                          | Incorrect                                                                                                                                  |\n",
       "| 020900012                                                                                                                                  | 200099                                                                                                                                     | A                                                                                                                                          | POR QUE CUANDO NOSOTROS SOPLAMOS DENTRO DEL EL VASO COMIENSA A SALIR BURBUJAS SOLO AMADER EL AGUA CON LA POPOTE                            | BECAUSE WHEN WE BLOW INSIDE THE GLASS BEGINS TO COME OUT BUBBLES ONLY AMADER THE WATER WITH THE STRAW                                      | Incorrect                                                                                                                                  |\n",
       "| 010500004                                                                                                                                  | 200521                                                                                                                                     | A                                                                                                                                          | POR QUE EL HOMBRE ESPULSA AIRE DE SU BOCA                                                                                                  | WHY DOES MAN EXPELL AIR FROM HIS MOUTH?                                                                                                    | Incorrect                                                                                                                                  |\n",
       "| 140500001                                                                                                                                  | 200631                                                                                                                                     | A                                                                                                                                          | PORQUE CUANDO UNA HACE FUERZA HACIA ARRIBA CON LA PAJILLA Y HAY MAS AGUA LA OTRA AGUA PRODUCE QUE LA AGUA SE SUBA HACIA ARRIBA             | BECAUSE WHEN ONE FORCES UPWARDS WITH THE STRAW AND THERE IS MORE WATER, THE OTHER WATER CAUSES THE WATER TO RISE UPWARDS                   | Incorrect                                                                                                                                  |\n",
       "| 121200006                                                                                                                                  | 200233                                                                                                                                     | A                                                                                                                                          | PORQUE SI UNO SOPLA DENTRO DEL AGUA DEL VASO SE FORMAN BURBUJAS EN EL AGUA SI SOPLA CON UNA PAGIA Y SUBEN ARRIBA PORQUE UNO SOPLA          | BECAUSE IF YOU BLOW INTO THE WATER OF THE GLASS, BUBBLES FORM IN THE WATER IF YOU BLOW WITH A PAGE AND THEY GO UP BECAUSE YOU BLOW         | Incorrect                                                                                                                                  |\n",
       "| 010500017                                                                                                                                  | 200028                                                                                                                                     | B                                                                                                                                          | PORQUE LA PERSONA ESTA SOPLANDO CON UNA PAJILLA                                                                                            | BECAUSE THE PERSON IS BLOWING INTO A STRAW                                                                                                 | Incorrect                                                                                                                                  |\n",
       "| 020900012                                                                                                                                  | 200586                                                                                                                                     | B                                                                                                                                          | POR QUE JUCAMOS EL AGUA POR ESO FOLTA EL ACUC USIRIBA                                                                                      | WHY WE DRAIN THE WATER THAT'S WHY THE ACUC USIRIBA FOLTA                                                                                   | Incorrect                                                                                                                                  |\n",
       "| 010500017                                                                                                                                  | 200530                                                                                                                                     | B                                                                                                                                          | PORQUE LA FUERZA QUE EL HACE POR LA PAJILLA SUBE YLE DA UN GRAN AIRE                                                                       | BECAUSE THE FORCE HE DOES THROUGH THE STRAW GOES UP AND GIVES HIM A GREAT AIR                                                              | Incorrect                                                                                                                                  |\n",
       "| 100600048                                                                                                                                  | 200654                                                                                                                                     | B                                                                                                                                          | PORQUE CUANDO SOPLA EN EL UN VASO SALEN BURBUJAS Y ESTO SUCEDE CUANDO UNO SOPLA SOBRE LA PAJILLA Y POR ESO LAS BURBUJAS SUBER HACIA ARRIBA | BECAUSE WHEN YOU BLOW INTO A GLASS, BUBBLES COME OUT AND THIS HAPPENS WHEN YOU BLOW ON THE STRAW AND THAT'S WHY THE BUBBLES GO UPWARDS     | Incorrect                                                                                                                                  |\n",
       "| 180100186                                                                                                                                  | 200102                                                                                                                                     | B                                                                                                                                          | SI YO VEVO AVUA Y LE PONGO UNA PAJIA SE SUPONDE VURVUJA                                                                                    | IF I SEE AVUA AND I PUT A PAJAA ON IT, IT IS SUPPOSED TO BE VURVUJA                                                                        | Incorrect                                                                                                                                  |\n",
       "\n"
      ],
      "text/plain": [
       "   Code      Student_ID Form\n",
       "1  121200006 200712     B   \n",
       "2  180100026 200120     B   \n",
       "3  130800004 200207     A   \n",
       "4  180100186 200594     B   \n",
       "5  030100041 200741     A   \n",
       "6  020900001 200554     B   \n",
       "7  160700004 200133     A   \n",
       "8  141100009 200644     B   \n",
       "9  030100041 200742     B   \n",
       "10 140500001 200154     B   \n",
       "11 120500071 200308     B   \n",
       "12 020900012 200099     A   \n",
       "13 010500004 200521     A   \n",
       "14 140500001 200631     A   \n",
       "15 121200006 200233     A   \n",
       "16 010500017 200028     B   \n",
       "17 020900012 200586     B   \n",
       "18 010500017 200530     B   \n",
       "19 100600048 200654     B   \n",
       "20 180100186 200102     B   \n",
       "   Original_Response                                                                                                                         \n",
       "1  POR QUE AL SOPOPLAR CON UNA PAGIA EL VIENTO QUE UNO PORPOSPONA ASE QUE EL AGUA SE LEBANTE COMO BURBUJAS SOBLE EL VASO                     \n",
       "2  8                                                                                                                                         \n",
       "3  PORQUE EL AGUA FLUYE Y LAS ELEBA A LA SURPERFICIE.                                                                                        \n",
       "4  LAS BURBUJAS SUBEN EN EL AGUA PORQUE LA FUERZA QUE LE HACE EL AIRE ABAJO ELLAS SUBEN HACIA ARRIBA                                         \n",
       "5  PORQUE EL BAPOR DEL AGUA ES MUY SUFISIENTE                                                                                                \n",
       "6  POR QUE LAS BURBUJAS SON DE HAIRE Y EL HAIRE ESTA ARRIBA DEL AGUA POR ESO LAS BURBUJASSUBEN                                               \n",
       "7  POR QUE EN LO QUE SOPLA POR LA PAJILLA EL AIRE CAEN CON FUERZA PRODUCE UN BURBUJITAS PEQUE!AS                                             \n",
       "8  PORQUE CUANDO UNO SOPLA SE ACEN BURBUJAS Y SE VAN A LAS NUBES Y SE ASE AGUA.                                                              \n",
       "9  PORQUE BARANTE EL TIEMPO QUE ABSORVE COMO ENSALA Y DESASALA                                                                               \n",
       "10 NO LA SE                                                                                                                                  \n",
       "11 PORQUE UNO SOPLA                                                                                                                          \n",
       "12 POR QUE CUANDO NOSOTROS SOPLAMOS DENTRO DEL EL VASO COMIENSA A SALIR BURBUJAS SOLO AMADER EL AGUA CON LA POPOTE                           \n",
       "13 POR QUE EL HOMBRE ESPULSA AIRE DE SU BOCA                                                                                                 \n",
       "14 PORQUE CUANDO UNA HACE FUERZA HACIA ARRIBA CON LA PAJILLA Y HAY MAS AGUA LA OTRA AGUA PRODUCE QUE LA AGUA SE SUBA HACIA ARRIBA            \n",
       "15 PORQUE SI UNO SOPLA DENTRO DEL AGUA DEL VASO SE FORMAN BURBUJAS EN EL AGUA SI SOPLA CON UNA PAGIA Y SUBEN ARRIBA PORQUE UNO SOPLA         \n",
       "16 PORQUE LA PERSONA ESTA SOPLANDO CON UNA PAJILLA                                                                                           \n",
       "17 POR QUE JUCAMOS EL AGUA POR ESO FOLTA EL ACUC USIRIBA                                                                                     \n",
       "18 PORQUE LA FUERZA QUE EL HACE POR LA PAJILLA SUBE YLE DA UN GRAN AIRE                                                                      \n",
       "19 PORQUE CUANDO SOPLA EN EL UN VASO SALEN BURBUJAS Y ESTO SUCEDE CUANDO UNO SOPLA SOBRE LA PAJILLA Y POR ESO LAS BURBUJAS SUBER HACIA ARRIBA\n",
       "20 SI YO VEVO AVUA Y LE PONGO UNA PAJIA SE SUPONDE VURVUJA                                                                                   \n",
       "   Response                                                                                                                              \n",
       "1  BECAUSE BY BLOWING WITH A PAGE THE WIND THAT ONE POSTPOSES MAKES THE WATER RISE LIKE BUBBLES SOUND THE GLASS                          \n",
       "2  8                                                                                                                                     \n",
       "3  BECAUSE THE WATER FLOWS AND LIFTS THEM TO THE SURFACE.                                                                                \n",
       "4  THE BUBBLES RISE IN THE WATER BECAUSE THE FORCE THAT THE AIR MAKES IT DOWN THEY RISE UPWARDS                                          \n",
       "5  BECAUSE THE STEAM OF THE WATER IS VERY SUFFICIENT                                                                                     \n",
       "6  BECAUSE THE BUBBLES ARE MADE OF HAIR AND THE HAIR IS ABOVE THE WATER THAT'S WHY THE BUBBLES RISE                                      \n",
       "7  BECAUSE AS IT BLOWS THROUGH THE STRAW, THE AIR FALLS WITH FORCE, PRODUCING SMALL BUBBLES!                                             \n",
       "8  BECAUSE WHEN ONE BLOWS, BUBBLES BECOME AND THEY GO TO THE CLOUDS AND WATER IS GROWN.                                                  \n",
       "9  BECAUSE IT BARANTE THE TIME THAT ABSORBS AS SALAD AND DESALATION                                                                      \n",
       "10 I DONT KNOW IT                                                                                                                        \n",
       "11 BECAUSE ONE BLOWS                                                                                                                     \n",
       "12 BECAUSE WHEN WE BLOW INSIDE THE GLASS BEGINS TO COME OUT BUBBLES ONLY AMADER THE WATER WITH THE STRAW                                 \n",
       "13 WHY DOES MAN EXPELL AIR FROM HIS MOUTH?                                                                                               \n",
       "14 BECAUSE WHEN ONE FORCES UPWARDS WITH THE STRAW AND THERE IS MORE WATER, THE OTHER WATER CAUSES THE WATER TO RISE UPWARDS              \n",
       "15 BECAUSE IF YOU BLOW INTO THE WATER OF THE GLASS, BUBBLES FORM IN THE WATER IF YOU BLOW WITH A PAGE AND THEY GO UP BECAUSE YOU BLOW    \n",
       "16 BECAUSE THE PERSON IS BLOWING INTO A STRAW                                                                                            \n",
       "17 WHY WE DRAIN THE WATER THAT'S WHY THE ACUC USIRIBA FOLTA                                                                              \n",
       "18 BECAUSE THE FORCE HE DOES THROUGH THE STRAW GOES UP AND GIVES HIM A GREAT AIR                                                         \n",
       "19 BECAUSE WHEN YOU BLOW INTO A GLASS, BUBBLES COME OUT AND THIS HAPPENS WHEN YOU BLOW ON THE STRAW AND THAT'S WHY THE BUBBLES GO UPWARDS\n",
       "20 IF I SEE AVUA AND I PUT A PAJAA ON IT, IT IS SUPPOSED TO BE VURVUJA                                                                   \n",
       "   Correction\n",
       "1  Incorrect \n",
       "2  Incorrect \n",
       "3  Incorrect \n",
       "4  Incorrect \n",
       "5  Incorrect \n",
       "6  Incorrect \n",
       "7  Incorrect \n",
       "8  Incorrect \n",
       "9  Incorrect \n",
       "10 Incorrect \n",
       "11 Incorrect \n",
       "12 Incorrect \n",
       "13 Incorrect \n",
       "14 Incorrect \n",
       "15 Incorrect \n",
       "16 Incorrect \n",
       "17 Incorrect \n",
       "18 Incorrect \n",
       "19 Incorrect \n",
       "20 Incorrect "
      ]
     },
     "metadata": {},
     "output_type": "display_data"
    }
   ],
   "source": [
    "sample_n(I, 20)"
   ]
  },
  {
   "cell_type": "markdown",
   "id": "66fa3355-0f46-4174-860a-94c85a945b08",
   "metadata": {},
   "source": [
    "### STEP 5: Analyze group H to discover other keywords/pattern for inccorect/correct answer\n",
    "\n",
    "This step is important because we might discover other important keywords/pattern for incorrect and correct answer. For example, I carefully observed the group H and realized that word \"WHY\" appears very frequently in many of the wrong answer. Therefore I updated STEP 2 and added \"WHY\" to the keywords to detect more incorrect response.  "
   ]
  },
  {
   "cell_type": "markdown",
   "id": "7226ea70-0960-4946-a460-d8496b8db4d1",
   "metadata": {},
   "source": [
    "### STEP 6: Export each dataframe to XLSX file. After checked by human, merge the file into one file."
   ]
  },
  {
   "cell_type": "code",
   "execution_count": 25,
   "id": "c6ef2e57-93d2-4d94-bfb1-554f6e547edb",
   "metadata": {},
   "outputs": [
    {
     "data": {
      "text/html": [
       "<ol class=list-inline>\n",
       "\t<li>290</li>\n",
       "\t<li>6</li>\n",
       "</ol>\n"
      ],
      "text/latex": [
       "\\begin{enumerate*}\n",
       "\\item 290\n",
       "\\item 6\n",
       "\\end{enumerate*}\n"
      ],
      "text/markdown": [
       "1. 290\n",
       "2. 6\n",
       "\n",
       "\n"
      ],
      "text/plain": [
       "[1] 290   6"
      ]
     },
     "metadata": {},
     "output_type": "display_data"
    },
    {
     "data": {
      "text/html": [
       "<ol class=list-inline>\n",
       "\t<li>151</li>\n",
       "\t<li>6</li>\n",
       "</ol>\n"
      ],
      "text/latex": [
       "\\begin{enumerate*}\n",
       "\\item 151\n",
       "\\item 6\n",
       "\\end{enumerate*}\n"
      ],
      "text/markdown": [
       "1. 151\n",
       "2. 6\n",
       "\n",
       "\n"
      ],
      "text/plain": [
       "[1] 151   6"
      ]
     },
     "metadata": {},
     "output_type": "display_data"
    },
    {
     "data": {
      "text/html": [
       "<ol class=list-inline>\n",
       "\t<li>61</li>\n",
       "\t<li>6</li>\n",
       "</ol>\n"
      ],
      "text/latex": [
       "\\begin{enumerate*}\n",
       "\\item 61\n",
       "\\item 6\n",
       "\\end{enumerate*}\n"
      ],
      "text/markdown": [
       "1. 61\n",
       "2. 6\n",
       "\n",
       "\n"
      ],
      "text/plain": [
       "[1] 61  6"
      ]
     },
     "metadata": {},
     "output_type": "display_data"
    }
   ],
   "source": [
    "dim(I)\n",
    "dim(C)\n",
    "dim(H)"
   ]
  },
  {
   "cell_type": "code",
   "execution_count": 24,
   "id": "766827d0-5fbf-452e-a00a-63a2baf9db28",
   "metadata": {},
   "outputs": [],
   "source": [
    "write_xlsx(C, 'Correct_Response.xlsx')\n",
    "write_xlsx(I, 'Incorrect_Response.xlsx')\n",
    "write_xlsx(H, 'Unsorted_Response.xlsx')"
   ]
  },
  {
   "cell_type": "markdown",
   "id": "b72dcc1e-2e61-4230-ad39-7f0327bb2b66",
   "metadata": {},
   "source": [
    "Question about use of woods is pretty simple. "
   ]
  },
  {
   "cell_type": "code",
   "execution_count": null,
   "id": "5f50676e-8e11-4f9b-ba1d-eaf79f188f88",
   "metadata": {},
   "outputs": [],
   "source": [
    "question_10_Part_1 <- select(raw_data, CODECEN, CUADERNILLO, FORMA, \"_v28\")\n",
    "question_10_Part_2 <- select(raw_data, CODECEN, CUADERNILLO, FORMA, \"_v29\")\n",
    "colnames(question_10_Part_1) <- c(\"Code\", \"Student_ID\", \"Form\", \"Response\")\n",
    "colnames(question_10_Part_2) <- c(\"Code\", \"Student_ID\", \"Form\", \"Response\")\n",
    "head(question_10_Part_1, 5)"
   ]
  },
  {
   "cell_type": "code",
   "execution_count": null,
   "id": "ee6d5735-4f34-4535-be67-8fa6141b8c18",
   "metadata": {},
   "outputs": [],
   "source": []
  }
 ],
 "metadata": {
  "kernelspec": {
   "display_name": "R",
   "language": "R",
   "name": "ir"
  },
  "language_info": {
   "codemirror_mode": "r",
   "file_extension": ".r",
   "mimetype": "text/x-r-source",
   "name": "R",
   "pygments_lexer": "r",
   "version": "3.6.1"
  }
 },
 "nbformat": 4,
 "nbformat_minor": 5
}
